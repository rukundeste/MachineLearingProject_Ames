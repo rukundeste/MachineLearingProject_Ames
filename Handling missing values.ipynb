{
 "cells": [
  {
   "cell_type": "code",
   "execution_count": 4,
   "id": "b1a5289f-340e-4376-b2df-c0f9bcf16426",
   "metadata": {},
   "outputs": [],
   "source": [
    "# Import required libraries\n",
    "import pandas as pd\n",
    "import numpy as np\n",
    "import matplotlib.pyplot as plt\n",
    "import matplotlib as mpl\n",
    "import plotly.express as px\n",
    "import seaborn as sns\n",
    "import missingno as msno\n",
    "import warnings\n",
    "import os\n",
    "from functools import lru_cache\n",
    "from math import ceil\n",
    "from itertools import zip_longest\n",
    "from typing import List, Tuple, Union, Any\n",
    "from scipy.stats import chi2_contingency\n",
    "from itertools import combinations\n",
    "from collections import defaultdict\n",
    "from statsmodels.stats.outliers_influence import variance_inflation_factor\n",
    "import scipy.stats as stats\n",
    "from catboost import CatBoostRegressor\n",
    "from sklearn.model_selection import cross_val_score, train_test_split\n",
    "from sklearn.model_selection import KFold\n",
    "from statsmodels.stats.outliers_influence import variance_inflation_factor\n",
    "from statsmodels.tools.tools import add_constant\n",
    "from sklearn.feature_selection import r_regression\n",
    "from sklearn.pipeline import Pipeline\n",
    "from sklearn.compose import ColumnTransformer\n",
    "from sklearn.impute import SimpleImputer\n",
    "from sklearn.preprocessing import StandardScaler, OneHotEncoder\n",
    "from sklearn.base import BaseEstimator, TransformerMixin\n",
    "from sklearn.linear_model import LinearRegression\n",
    "from sklearn.metrics import r2_score\n",
    "from sklearn.linear_model import Lasso \n",
    "from sklearn.linear_model import Ridge\n",
    "from sklearn.model_selection import train_test_split\n",
    "from sklearn.metrics import mean_squared_error\n",
    "from sklearn.linear_model import ElasticNet \n",
    "from scipy.stats import skew\n",
    "from sklearn.tree import DecisionTreeRegressor\n",
    "from sklearn import tree\n",
    "from sklearn.ensemble import RandomForestRegressor\n",
    "from sklearn.tree import DecisionTreeRegressor\n",
    "from sklearn.ensemble import GradientBoostingRegressor\n",
    "from xgboost import XGBRegressor\n",
    "from lightgbm import LGBMRegressor\n",
    "from sklearn.metrics import mean_squared_error, mean_absolute_error, r2_score\n",
    "from sklearn.model_selection import train_test_split\n",
    "from sklearn.model_selection import GridSearchCV\n",
    "from catboost import CatBoostClassifier  # Make sure CatBoost is imported\n",
    "from lightgbm import LGBMClassifier\n",
    "import statsmodels.api as sm\n",
    "import lightgbm as lgb"
   ]
  },
  {
   "cell_type": "code",
   "execution_count": 5,
   "id": "6d55d3cb-d730-49d1-a05b-c43993f2f1c2",
   "metadata": {},
   "outputs": [],
   "source": [
    "data= pd.read_csv(\"Ames_HousePrice.csv\")"
   ]
  },
  {
   "cell_type": "code",
   "execution_count": 3,
   "id": "ab13e9ff-da37-43fb-a26b-12e5a0e28fdd",
   "metadata": {},
   "outputs": [
    {
     "data": {
      "text/plain": [
       "(2580, 82)"
      ]
     },
     "execution_count": 3,
     "metadata": {},
     "output_type": "execute_result"
    }
   ],
   "source": [
    "data.shape"
   ]
  },
  {
   "cell_type": "code",
   "execution_count": 9,
   "id": "fe008159-0f98-4151-ae57-2b10e61c321a",
   "metadata": {},
   "outputs": [
    {
     "name": "stdout",
     "output_type": "stream",
     "text": [
      "              Missing Values  Percentage Data Type\n",
      "PoolQC                  2571   99.651163    object\n",
      "MiscFeature             2483   96.240310    object\n",
      "Alley                   2412   93.488372    object\n",
      "Fence                   2055   79.651163    object\n",
      "MasVnrType              1573   60.968992    object\n",
      "FireplaceQu             1241   48.100775    object\n",
      "GarageCond               129    5.000000    object\n",
      "GarageFinish             129    5.000000    object\n",
      "GarageQual               129    5.000000    object\n",
      "GarageType               127    4.922481    object\n",
      "BsmtExposure              71    2.751938    object\n",
      "BsmtFinType2              70    2.713178    object\n",
      "BsmtFinType1              69    2.674419    object\n",
      "BsmtCond                  69    2.674419    object\n",
      "BsmtQual                  69    2.674419    object\n",
      "Electrical                 1    0.038760    object\n"
     ]
    }
   ],
   "source": [
    "#Identify categorical data types and rank them in the order in which they are most affected by missing data\n",
    "\n",
    "missing_data = data.isnull().sum()\n",
    "missing_percentage = (missing_data / len(data)) * 100\n",
    "data_type = data.dtypes\n",
    " \n",
    "# Combining the counts and percentages into a DataFrame for better visualization\n",
    "missing_info = pd.DataFrame({'Missing Values': missing_data, 'Percentage': missing_percentage,\n",
    "                             'Data Type':data_type})\n",
    " \n",
    "# Sorting the DataFrame by the percentage of missing values in descending order\n",
    "missing_info = missing_info.sort_values(by='Percentage', ascending=False)\n",
    " \n",
    "# Display columns with missing values of 'object' data type\n",
    "print(missing_info[(missing_info['Missing Values'] > 0) & (missing_info['Data Type'] == 'object')])"
   ]
  },
  {
   "cell_type": "code",
   "execution_count": 10,
   "id": "c1d096a7-de3f-407c-aa7e-0f82cb916222",
   "metadata": {},
   "outputs": [
    {
     "name": "stdout",
     "output_type": "stream",
     "text": [
      "PoolQC          0\n",
      "MiscFeature     0\n",
      "Alley           0\n",
      "Fence           0\n",
      "MasVnrType      0\n",
      "FireplaceQu     0\n",
      "GarageCond      0\n",
      "GarageFinish    0\n",
      "GarageQual      0\n",
      "GarageType      0\n",
      "BsmtExposure    0\n",
      "BsmtFinType2    0\n",
      "BsmtFinType1    0\n",
      "BsmtCond        0\n",
      "BsmtQual        0\n",
      "Electrical      0\n",
      "dtype: int64\n"
     ]
    }
   ],
   "source": [
    "# Imputing Missing Categorical Data \n",
    "mode_value = data['Electrical'].mode()[0]\n",
    "data['Electrical'].fillna(mode_value, inplace=True)\n",
    " \n",
    "missing_categorical = missing_info[(missing_info['Missing Values'] > 0)\n",
    "                           & (missing_info['Data Type'] == 'object')]\n",
    " \n",
    "for item in missing_categorical.index.tolist():\n",
    "    data[item].fillna(\"None\", inplace=True)\n",
    " \n",
    "print(data[missing_categorical.index].isnull().sum())"
   ]
  },
  {
   "cell_type": "code",
   "execution_count": 7,
   "id": "995cca53-8424-465f-bed6-8e76db5f3e5c",
   "metadata": {},
   "outputs": [
    {
     "name": "stdout",
     "output_type": "stream",
     "text": [
      "              Missing Values  Percentage Data Type\n",
      "LotFrontage              462   17.906977   float64\n",
      "GarageYrBlt              129    5.000000   float64\n",
      "MasVnrArea                14    0.542636   float64\n",
      "BsmtHalfBath               2    0.077519   float64\n",
      "BsmtFullBath               2    0.077519   float64\n",
      "GarageArea                 1    0.038760   float64\n",
      "GarageCars                 1    0.038760   float64\n",
      "BsmtUnfSF                  1    0.038760   float64\n",
      "BsmtFinSF2                 1    0.038760   float64\n",
      "BsmtFinSF1                 1    0.038760   float64\n",
      "TotalBsmtSF                1    0.038760   float64\n"
     ]
    }
   ],
   "source": [
    "# Identify numerical data types and rank them in the order in which they are most affected by missing data. \n",
    "# Calculating the percentage of missing values for each column\n",
    "missing_data = data.isnull().sum()\n",
    "missing_percentage = (missing_data / len(data)) * 100\n",
    "data_type = data.dtypes\n",
    " \n",
    "# Combining the counts and percentages into a DataFrame for better visualization\n",
    "missing_info = pd.DataFrame({'Missing Values': missing_data, 'Percentage': missing_percentage,\n",
    "                             'Data Type':data_type})\n",
    " \n",
    "# Sorting the DataFrame by the percentage of missing values in descending order\n",
    "missing_info = missing_info.sort_values(by='Percentage', ascending=False)\n",
    " \n",
    "# Display columns with missing values of numeric data type\n",
    "print(missing_info[(missing_info['Missing Values'] > 0)\n",
    "                   & (missing_info['Data Type'] == np.number)])"
   ]
  },
  {
   "cell_type": "code",
   "execution_count": 8,
   "id": "456ab87e-fca0-4aa0-9c7d-4d539d41e9e8",
   "metadata": {},
   "outputs": [
    {
     "name": "stdout",
     "output_type": "stream",
     "text": [
      "         Feature Missing Values After Imputation Mean Value Used to Impute\n",
      "0    LotFrontage                               0                 68.516053\n",
      "1    GarageYrBlt                               0               1976.982048\n",
      "2     MasVnrArea                               0                 99.308262\n",
      "3   BsmtHalfBath                               0                  0.062064\n",
      "4   BsmtFullBath                               0                  0.435221\n",
      "5     GarageArea                               0                466.842575\n",
      "6     GarageCars                               0                  1.747577\n",
      "7      BsmtUnfSF                               0                 539.10159\n",
      "8     BsmtFinSF2                               0                 53.238852\n",
      "9     BsmtFinSF1                               0                444.346258\n",
      "10   TotalBsmtSF                               0                 1036.6867\n"
     ]
    }
   ],
   "source": [
    "#Imputing  Missing numerical Values\n",
    "# Initialize a DataFrame to store the concise information\n",
    "concise_info = pd.DataFrame(columns=['Feature', 'Missing Values After Imputation', \n",
    "                                     'Mean Value Used to Impute'])\n",
    " \n",
    "# Identify and impute missing numerical values, and store the related concise information\n",
    "missing_numeric_feature = missing_info[(missing_info['Missing Values'] > 0)\n",
    "                           & (missing_info['Data Type'] == np.number)]\n",
    " \n",
    "for item in missing_numeric_feature.index.tolist():\n",
    "    mean_value = data[item].mean(skipna=True)\n",
    "    data[item].fillna(mean_value, inplace=True)\n",
    " \n",
    "    # Append the concise information to the concise_info DataFrame\n",
    "    concise_info.loc[len(concise_info)] = pd.Series({\n",
    "        'Feature': item,\n",
    "        'Missing Values After Imputation': data[item].isnull().sum(),\n",
    "        'Mean Value Used to Impute': mean_value\n",
    "    })\n",
    " \n",
    "# Display the concise_info DataFrame\n",
    "print(concise_info)"
   ]
  },
  {
   "cell_type": "code",
   "execution_count": null,
   "id": "b7c0b45c-bfd4-4526-a273-246dbee9840b",
   "metadata": {},
   "outputs": [],
   "source": []
  }
 ],
 "metadata": {
  "kernelspec": {
   "display_name": "Python 3 (ipykernel)",
   "language": "python",
   "name": "python3"
  },
  "language_info": {
   "codemirror_mode": {
    "name": "ipython",
    "version": 3
   },
   "file_extension": ".py",
   "mimetype": "text/x-python",
   "name": "python",
   "nbconvert_exporter": "python",
   "pygments_lexer": "ipython3",
   "version": "3.11.7"
  }
 },
 "nbformat": 4,
 "nbformat_minor": 5
}
